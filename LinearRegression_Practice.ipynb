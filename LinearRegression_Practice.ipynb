{
  "nbformat": 4,
  "nbformat_minor": 0,
  "metadata": {
    "colab": {
      "provenance": [],
      "authorship_tag": "ABX9TyMBccYhtfyq+lL8O+47qwgq",
      "include_colab_link": true
    },
    "kernelspec": {
      "name": "python3",
      "display_name": "Python 3"
    },
    "language_info": {
      "name": "python"
    }
  },
  "cells": [
    {
      "cell_type": "markdown",
      "metadata": {
        "id": "view-in-github",
        "colab_type": "text"
      },
      "source": [
        "<a href=\"https://colab.research.google.com/github/Sumanth283532/Sumanth_MachineLearning/blob/main/LinearRegression_Practice.ipynb\" target=\"_parent\"><img src=\"https://colab.research.google.com/assets/colab-badge.svg\" alt=\"Open In Colab\"/></a>"
      ]
    },
    {
      "cell_type": "code",
      "execution_count": 3,
      "metadata": {
        "id": "KAn1He4mw3rt"
      },
      "outputs": [],
      "source": [
        "from sklearn.linear_model import LinearRegression\n",
        "import numpy as np\n",
        "import pandas as pd\n"
      ]
    },
    {
      "cell_type": "code",
      "source": [
        "class LinearRegression:\n",
        "  def __init__(self,learning_rate=0.01,iterations=100):\n",
        "    self.learning_rate = learning_rate\n",
        "    self.iterations = iterations\n",
        ""
      ],
      "metadata": {
        "id": "ls_2UE2_xcye"
      },
      "execution_count": 7,
      "outputs": []
    },
    {
      "cell_type": "code",
      "source": [
        "def predict(self,x):\n",
        "  return np.dot(x.T,self.w)+self.b\n",
        "LinearRegression.predit = predict"
      ],
      "metadata": {
        "id": "R9ms87zMxqYb"
      },
      "execution_count": 8,
      "outputs": []
    },
    {
      "cell_type": "code",
      "source": [
        "def updateweights(self):\n",
        "  Y_pred = self.predict(self.x)\n",
        "  #Calculating the gradients\n",
        "  dw = -2 * (np.dot(self.x.T,(self.y-Y_pred))) / self.m\n",
        "  db = -2 * np.sum(self.y-Y_pred)/self.m\n",
        "  self.w = self.x - self.learning_rate * dw\n",
        "  self.b = self.x - self.learning_rate * db\n",
        "  return self\n",
        "LinearRegression.updateweights = updateweights"
      ],
      "metadata": {
        "id": "IhLA_Tkh3Sd4"
      },
      "execution_count": 9,
      "outputs": []
    },
    {
      "cell_type": "code",
      "source": [
        "def fit(self,x,y):\n",
        "  data_points, features = x.shape\n",
        "  self.m = data_points\n",
        "  self.w = np.zeros(features)\n",
        "  self.b = 0\n",
        "  self.x = x\n",
        "  self.y = y\n",
        "  self.error_list = []\n",
        "  for i in range(self.iterations):\n",
        "    self.updateweights()\n",
        "    y_pred = np.dot(x.T,self.w) + self.b\n",
        "    MSE = (np.sum(y-y_pred))**2/self.m\n",
        "    error_list.append(MSE)\n",
        "  return self\n",
        "LinearRegression.fit = fit"
      ],
      "metadata": {
        "id": "UjyjLEmk87DN"
      },
      "execution_count": 11,
      "outputs": []
    }
  ]
}